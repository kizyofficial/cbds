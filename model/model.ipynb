{
 "cells": [
  {
   "cell_type": "code",
   "execution_count": 696,
   "metadata": {},
   "outputs": [],
   "source": [
    "import numpy as np # linear algebra\n",
    "import pandas as pd # data processing, CSV file I/O (e.g. pd.read_csv)\n",
    "\n",
    "from sklearn.feature_extraction.text import CountVectorizer\n",
    "from tensorflow.keras.preprocessing.text import Tokenizer\n",
    "from tensorflow.keras.preprocessing.sequence import pad_sequences\n",
    "from tensorflow.keras.models import Sequential\n",
    "from tensorflow.keras.layers import Dense, Embedding, LSTM, SpatialDropout1D\n",
    "from sklearn.model_selection import train_test_split\n",
    "from keras.utils.np_utils import to_categorical\n",
    "import re"
   ]
  },
  {
   "cell_type": "code",
   "execution_count": 697,
   "metadata": {},
   "outputs": [],
   "source": [
    "import tensorflow as tf  "
   ]
  },
  {
   "cell_type": "code",
   "execution_count": 698,
   "metadata": {},
   "outputs": [],
   "source": [
    "#pip list"
   ]
  },
  {
   "cell_type": "code",
   "execution_count": 699,
   "metadata": {},
   "outputs": [],
   "source": [
    "data  = pd.read_csv('anti-bully-data copy 5.csv')"
   ]
  },
  {
   "cell_type": "code",
   "execution_count": 700,
   "metadata": {},
   "outputs": [
    {
     "data": {
      "text/html": [
       "<div>\n",
       "<style scoped>\n",
       "    .dataframe tbody tr th:only-of-type {\n",
       "        vertical-align: middle;\n",
       "    }\n",
       "\n",
       "    .dataframe tbody tr th {\n",
       "        vertical-align: top;\n",
       "    }\n",
       "\n",
       "    .dataframe thead th {\n",
       "        text-align: right;\n",
       "    }\n",
       "</style>\n",
       "<table border=\"1\" class=\"dataframe\">\n",
       "  <thead>\n",
       "    <tr style=\"text-align: right;\">\n",
       "      <th></th>\n",
       "      <th>label_bullying</th>\n",
       "      <th>text_message</th>\n",
       "    </tr>\n",
       "  </thead>\n",
       "  <tbody>\n",
       "    <tr>\n",
       "      <th>0</th>\n",
       "      <td>0</td>\n",
       "      <td>yeah I got 2 backups for all that. I just hate...</td>\n",
       "    </tr>\n",
       "    <tr>\n",
       "      <th>1</th>\n",
       "      <td>0</td>\n",
       "      <td>I hate using my BB  but love my iPhone. Haven'...</td>\n",
       "    </tr>\n",
       "    <tr>\n",
       "      <th>2</th>\n",
       "      <td>1</td>\n",
       "      <td>Get fucking real dude. and dont be a fool</td>\n",
       "    </tr>\n",
       "    <tr>\n",
       "      <th>3</th>\n",
       "      <td>1</td>\n",
       "      <td>She is as dirty as they come  and that crook ...</td>\n",
       "    </tr>\n",
       "    <tr>\n",
       "      <th>4</th>\n",
       "      <td>1</td>\n",
       "      <td>why did you fuck it up. I could do it all day...</td>\n",
       "    </tr>\n",
       "    <tr>\n",
       "      <th>...</th>\n",
       "      <td>...</td>\n",
       "      <td>...</td>\n",
       "    </tr>\n",
       "    <tr>\n",
       "      <th>8823</th>\n",
       "      <td>0</td>\n",
       "      <td>no caffiene would kick my ass too - I'm addict...</td>\n",
       "    </tr>\n",
       "    <tr>\n",
       "      <th>8824</th>\n",
       "      <td>0</td>\n",
       "      <td>Now I'm hungry.  Damn you people and your midn...</td>\n",
       "    </tr>\n",
       "    <tr>\n",
       "      <th>8825</th>\n",
       "      <td>0</td>\n",
       "      <td>i've taken one also. people just piss me off m...</td>\n",
       "    </tr>\n",
       "    <tr>\n",
       "      <th>8826</th>\n",
       "      <td>0</td>\n",
       "      <td>That  too! Or even being able to park pulling ...</td>\n",
       "    </tr>\n",
       "    <tr>\n",
       "      <th>8827</th>\n",
       "      <td>1</td>\n",
       "      <td>. . . HE'S FUCKING HIMSELF!</td>\n",
       "    </tr>\n",
       "  </tbody>\n",
       "</table>\n",
       "<p>8828 rows × 2 columns</p>\n",
       "</div>"
      ],
      "text/plain": [
       "      label_bullying                                       text_message\n",
       "0                  0  yeah I got 2 backups for all that. I just hate...\n",
       "1                  0  I hate using my BB  but love my iPhone. Haven'...\n",
       "2                  1          Get fucking real dude. and dont be a fool\n",
       "3                  1   She is as dirty as they come  and that crook ...\n",
       "4                  1   why did you fuck it up. I could do it all day...\n",
       "...              ...                                                ...\n",
       "8823               0  no caffiene would kick my ass too - I'm addict...\n",
       "8824               0  Now I'm hungry.  Damn you people and your midn...\n",
       "8825               0  i've taken one also. people just piss me off m...\n",
       "8826               0  That  too! Or even being able to park pulling ...\n",
       "8827               1                        . . . HE'S FUCKING HIMSELF!\n",
       "\n",
       "[8828 rows x 2 columns]"
      ]
     },
     "execution_count": 700,
     "metadata": {},
     "output_type": "execute_result"
    }
   ],
   "source": [
    "data"
   ]
  },
  {
   "cell_type": "code",
   "execution_count": 701,
   "metadata": {},
   "outputs": [
    {
     "data": {
      "text/plain": [
       "array([0, 1], dtype=int64)"
      ]
     },
     "execution_count": 701,
     "metadata": {},
     "output_type": "execute_result"
    }
   ],
   "source": [
    "data['label_bullying'].unique()"
   ]
  },
  {
   "cell_type": "code",
   "execution_count": 702,
   "metadata": {},
   "outputs": [
    {
     "data": {
      "text/plain": [
       "(5075, 2)"
      ]
     },
     "execution_count": 702,
     "metadata": {},
     "output_type": "execute_result"
    }
   ],
   "source": [
    "data[data['label_bullying']==1].shape"
   ]
  },
  {
   "cell_type": "code",
   "execution_count": 703,
   "metadata": {},
   "outputs": [
    {
     "data": {
      "text/plain": [
       "(3753, 2)"
      ]
     },
     "execution_count": 703,
     "metadata": {},
     "output_type": "execute_result"
    }
   ],
   "source": [
    "data[data['label_bullying']==0].shape"
   ]
  },
  {
   "cell_type": "code",
   "execution_count": 704,
   "metadata": {},
   "outputs": [],
   "source": [
    "data =data.dropna()"
   ]
  },
  {
   "cell_type": "code",
   "execution_count": 705,
   "metadata": {},
   "outputs": [
    {
     "data": {
      "text/html": [
       "<div>\n",
       "<style scoped>\n",
       "    .dataframe tbody tr th:only-of-type {\n",
       "        vertical-align: middle;\n",
       "    }\n",
       "\n",
       "    .dataframe tbody tr th {\n",
       "        vertical-align: top;\n",
       "    }\n",
       "\n",
       "    .dataframe thead th {\n",
       "        text-align: right;\n",
       "    }\n",
       "</style>\n",
       "<table border=\"1\" class=\"dataframe\">\n",
       "  <thead>\n",
       "    <tr style=\"text-align: right;\">\n",
       "      <th></th>\n",
       "      <th>label_bullying</th>\n",
       "      <th>text_message</th>\n",
       "    </tr>\n",
       "  </thead>\n",
       "  <tbody>\n",
       "    <tr>\n",
       "      <th>0</th>\n",
       "      <td>0</td>\n",
       "      <td>yeah I got 2 backups for all that. I just hate...</td>\n",
       "    </tr>\n",
       "    <tr>\n",
       "      <th>1</th>\n",
       "      <td>0</td>\n",
       "      <td>I hate using my BB  but love my iPhone. Haven'...</td>\n",
       "    </tr>\n",
       "    <tr>\n",
       "      <th>2</th>\n",
       "      <td>1</td>\n",
       "      <td>Get fucking real dude. and dont be a fool</td>\n",
       "    </tr>\n",
       "    <tr>\n",
       "      <th>3</th>\n",
       "      <td>1</td>\n",
       "      <td>She is as dirty as they come  and that crook ...</td>\n",
       "    </tr>\n",
       "    <tr>\n",
       "      <th>4</th>\n",
       "      <td>1</td>\n",
       "      <td>why did you fuck it up. I could do it all day...</td>\n",
       "    </tr>\n",
       "    <tr>\n",
       "      <th>...</th>\n",
       "      <td>...</td>\n",
       "      <td>...</td>\n",
       "    </tr>\n",
       "    <tr>\n",
       "      <th>8823</th>\n",
       "      <td>0</td>\n",
       "      <td>no caffiene would kick my ass too - I'm addict...</td>\n",
       "    </tr>\n",
       "    <tr>\n",
       "      <th>8824</th>\n",
       "      <td>0</td>\n",
       "      <td>Now I'm hungry.  Damn you people and your midn...</td>\n",
       "    </tr>\n",
       "    <tr>\n",
       "      <th>8825</th>\n",
       "      <td>0</td>\n",
       "      <td>i've taken one also. people just piss me off m...</td>\n",
       "    </tr>\n",
       "    <tr>\n",
       "      <th>8826</th>\n",
       "      <td>0</td>\n",
       "      <td>That  too! Or even being able to park pulling ...</td>\n",
       "    </tr>\n",
       "    <tr>\n",
       "      <th>8827</th>\n",
       "      <td>1</td>\n",
       "      <td>. . . HE'S FUCKING HIMSELF!</td>\n",
       "    </tr>\n",
       "  </tbody>\n",
       "</table>\n",
       "<p>8828 rows × 2 columns</p>\n",
       "</div>"
      ],
      "text/plain": [
       "      label_bullying                                       text_message\n",
       "0                  0  yeah I got 2 backups for all that. I just hate...\n",
       "1                  0  I hate using my BB  but love my iPhone. Haven'...\n",
       "2                  1          Get fucking real dude. and dont be a fool\n",
       "3                  1   She is as dirty as they come  and that crook ...\n",
       "4                  1   why did you fuck it up. I could do it all day...\n",
       "...              ...                                                ...\n",
       "8823               0  no caffiene would kick my ass too - I'm addict...\n",
       "8824               0  Now I'm hungry.  Damn you people and your midn...\n",
       "8825               0  i've taken one also. people just piss me off m...\n",
       "8826               0  That  too! Or even being able to park pulling ...\n",
       "8827               1                        . . . HE'S FUCKING HIMSELF!\n",
       "\n",
       "[8828 rows x 2 columns]"
      ]
     },
     "execution_count": 705,
     "metadata": {},
     "output_type": "execute_result"
    }
   ],
   "source": [
    "data "
   ]
  },
  {
   "cell_type": "code",
   "execution_count": 706,
   "metadata": {},
   "outputs": [
    {
     "data": {
      "text/plain": [
       "array(['yeah I got 2 backups for all that. I just hate when that happen. I been strugglin for a week now...handle that tho',\n",
       "       \"I hate using my BB  but love my iPhone. Haven't tried the new BB. My BB is provided by my corp. I don't get to pick which model\",\n",
       "       ' Get fucking real dude. and dont be a fool', ...,\n",
       "       \"i've taken one also. people just piss me off more & more recently\",\n",
       "       'That  too! Or even being able to park pulling in forward rather than backwards--I hate when the car behind me pulls up and BLOCKS!',\n",
       "       \". . . HE'S FUCKING HIMSELF!\"], dtype=object)"
      ]
     },
     "execution_count": 706,
     "metadata": {},
     "output_type": "execute_result"
    }
   ],
   "source": [
    "data['text_message'].unique()"
   ]
  },
  {
   "cell_type": "code",
   "execution_count": 707,
   "metadata": {},
   "outputs": [],
   "source": [
    "data = data[['text_message','label_bullying']]"
   ]
  },
  {
   "cell_type": "code",
   "execution_count": 708,
   "metadata": {},
   "outputs": [],
   "source": [
    "data['text_message'] = data['text_message'].apply(lambda x: x.lower())\n",
    "data['text_message'] = data['text_message'].apply((lambda x: re.sub('[^a-zA-z0-9\\s]','',x)))"
   ]
  },
  {
   "cell_type": "code",
   "execution_count": 709,
   "metadata": {},
   "outputs": [],
   "source": [
    "for idx,row in data.iterrows():\n",
    "    row[0] = row[0].replace('rt',' ')\n",
    "    \n",
    "max_fatures = 2000\n",
    "tokenizer = Tokenizer(num_words=max_fatures, split=' ')\n",
    "tokenizer.fit_on_texts(data['text_message'].values)\n",
    "X = tokenizer.texts_to_sequences(data['text_message'].values)\n",
    "X = pad_sequences(X)\n",
    "\n"
   ]
  },
  {
   "cell_type": "code",
   "execution_count": 710,
   "metadata": {},
   "outputs": [
    {
     "name": "stdout",
     "output_type": "stream",
     "text": [
      "Original lengths (first 10): [20 26  9 24 30 21 15 21 23 10]\n",
      "Scaled lengths (first 10): [0.45454545 0.59090909 0.20454545 0.54545455 0.68181818 0.47727273\n",
      " 0.34090909 0.47727273 0.52272727 0.22727273]\n"
     ]
    }
   ],
   "source": [
    "# ===== Statistical Preprocessing Step (Stand-Alone) =====\n",
    "from sklearn.preprocessing import MinMaxScaler\n",
    "import numpy as np\n",
    "\n",
    "# Create a numeric feature: sequence lengths (non-zero token count)\n",
    "seq_lengths = np.array([len([t for t in seq if t != 0]) for seq in X]).reshape(-1, 1)\n",
    "\n",
    "# Apply Min–Max scaling to this numeric feature\n",
    "scaler = MinMaxScaler()\n",
    "seq_lengths_scaled = scaler.fit_transform(seq_lengths)\n",
    "\n",
    "# Optional: view before & after\n",
    "print(\"Original lengths (first 10):\", seq_lengths[:10].flatten())\n",
    "print(\"Scaled lengths (first 10):\", seq_lengths_scaled[:10].flatten())\n"
   ]
  },
  {
   "cell_type": "code",
   "execution_count": 711,
   "metadata": {},
   "outputs": [
    {
     "data": {
      "text/plain": [
       "array([[   0,    0,    0, ...,  286,    6,  395],\n",
       "       [   0,    0,    0, ...,  651,  348, 1989],\n",
       "       [   0,    0,    0, ...,   26,    4,   42],\n",
       "       ...,\n",
       "       [   0,    0,    0, ...,   87,   87, 1039],\n",
       "       [   0,    0,    0, ...,   41,    8, 1297],\n",
       "       [   0,    0,    0, ...,  177,   34, 1230]])"
      ]
     },
     "execution_count": 711,
     "metadata": {},
     "output_type": "execute_result"
    }
   ],
   "source": [
    "X"
   ]
  },
  {
   "cell_type": "code",
   "execution_count": 712,
   "metadata": {},
   "outputs": [
    {
     "name": "stdout",
     "output_type": "stream",
     "text": [
      "Model: \"sequential_18\"\n",
      "_________________________________________________________________\n",
      " Layer (type)                Output Shape              Param #   \n",
      "=================================================================\n",
      " embedding_18 (Embedding)    (None, 44, 100)           200000    \n",
      "                                                                 \n",
      " spatial_dropout1d_18 (Spati  (None, 44, 100)          0         \n",
      " alDropout1D)                                                    \n",
      "                                                                 \n",
      " lstm_18 (LSTM)              (None, 126)               114408    \n",
      "                                                                 \n",
      " dense_18 (Dense)            (None, 2)                 254       \n",
      "                                                                 \n",
      "=================================================================\n",
      "Total params: 314,662\n",
      "Trainable params: 314,662\n",
      "Non-trainable params: 0\n",
      "_________________________________________________________________\n",
      "None\n"
     ]
    }
   ],
   "source": [
    "embed_dim = 100\n",
    "lstm_out = 126\n",
    "\n",
    "model = Sequential()\n",
    "model.add(Embedding(max_fatures, embed_dim,input_length = X.shape[1]))\n",
    "model.add(SpatialDropout1D(0.4))\n",
    "model.add(LSTM(lstm_out, dropout=0.2, recurrent_dropout=0.2))\n",
    "model.add(Dense(2,activation='softmax'))\n",
    "model.compile(loss = 'categorical_crossentropy', optimizer='adam',metrics = ['accuracy'])\n",
    "print(model.summary())"
   ]
  },
  {
   "cell_type": "code",
   "execution_count": 713,
   "metadata": {},
   "outputs": [
    {
     "name": "stdout",
     "output_type": "stream",
     "text": [
      "(6179, 44) (6179, 2)\n",
      "(2649, 44) (2649, 2)\n"
     ]
    }
   ],
   "source": [
    "Y = pd.get_dummies(data['label_bullying']).values\n",
    "X_train, X_test, Y_train, Y_test = train_test_split(X,Y, test_size = 0.3, random_state = 42)\n",
    "print(X_train.shape,Y_train.shape)\n",
    "print(X_test.shape,Y_test.shape)"
   ]
  },
  {
   "cell_type": "code",
   "execution_count": 714,
   "metadata": {},
   "outputs": [
    {
     "name": "stdout",
     "output_type": "stream",
     "text": [
      "Epoch 1/20\n",
      "618/618 - 40s - loss: 0.5228 - accuracy: 0.7124 - 40s/epoch - 65ms/step\n",
      "Epoch 2/20\n",
      "618/618 - 69s - loss: 0.4331 - accuracy: 0.7742 - 69s/epoch - 111ms/step\n",
      "Epoch 3/20\n",
      "618/618 - 64s - loss: 0.3886 - accuracy: 0.8110 - 64s/epoch - 104ms/step\n",
      "Epoch 4/20\n",
      "618/618 - 54s - loss: 0.3497 - accuracy: 0.8362 - 54s/epoch - 87ms/step\n",
      "Epoch 5/20\n",
      "618/618 - 53s - loss: 0.3121 - accuracy: 0.8552 - 53s/epoch - 86ms/step\n",
      "Epoch 6/20\n",
      "618/618 - 44s - loss: 0.2790 - accuracy: 0.8726 - 44s/epoch - 72ms/step\n",
      "Epoch 7/20\n",
      "618/618 - 48s - loss: 0.2486 - accuracy: 0.8899 - 48s/epoch - 77ms/step\n",
      "Epoch 8/20\n",
      "618/618 - 56s - loss: 0.2229 - accuracy: 0.9034 - 56s/epoch - 91ms/step\n",
      "Epoch 9/20\n",
      "618/618 - 57s - loss: 0.1981 - accuracy: 0.9128 - 57s/epoch - 92ms/step\n",
      "Epoch 10/20\n",
      "618/618 - 53s - loss: 0.1706 - accuracy: 0.9230 - 53s/epoch - 86ms/step\n",
      "Epoch 11/20\n",
      "618/618 - 65s - loss: 0.1538 - accuracy: 0.9311 - 65s/epoch - 106ms/step\n",
      "Epoch 12/20\n",
      "618/618 - 55s - loss: 0.1464 - accuracy: 0.9372 - 55s/epoch - 88ms/step\n",
      "Epoch 13/20\n",
      "618/618 - 53s - loss: 0.1338 - accuracy: 0.9429 - 53s/epoch - 86ms/step\n",
      "Epoch 14/20\n",
      "618/618 - 51s - loss: 0.1223 - accuracy: 0.9469 - 51s/epoch - 82ms/step\n",
      "Epoch 15/20\n",
      "618/618 - 43s - loss: 0.1003 - accuracy: 0.9581 - 43s/epoch - 69ms/step\n",
      "Epoch 16/20\n",
      "618/618 - 61s - loss: 0.1034 - accuracy: 0.9566 - 61s/epoch - 98ms/step\n",
      "Epoch 17/20\n",
      "618/618 - 68s - loss: 0.0886 - accuracy: 0.9634 - 68s/epoch - 111ms/step\n",
      "Epoch 18/20\n",
      "618/618 - 59s - loss: 0.0925 - accuracy: 0.9620 - 59s/epoch - 96ms/step\n",
      "Epoch 19/20\n",
      "618/618 - 57s - loss: 0.0939 - accuracy: 0.9636 - 57s/epoch - 92ms/step\n",
      "Epoch 20/20\n",
      "618/618 - 39s - loss: 0.0766 - accuracy: 0.9686 - 39s/epoch - 63ms/step\n"
     ]
    },
    {
     "data": {
      "text/plain": [
       "<keras.callbacks.History at 0x2abf1a88fa0>"
      ]
     },
     "execution_count": 714,
     "metadata": {},
     "output_type": "execute_result"
    }
   ],
   "source": [
    "batch_size = 10\n",
    "model.fit(X_train, Y_train, epochs = 20, batch_size=batch_size, verbose = 2)"
   ]
  },
  {
   "cell_type": "code",
   "execution_count": 715,
   "metadata": {},
   "outputs": [
    {
     "name": "stdout",
     "output_type": "stream",
     "text": [
      "83/83 [==============================] - 2s 17ms/step\n",
      "Confusion Matrix\n"
     ]
    }
   ],
   "source": [
    "\n",
    "y_test_arg=np.argmax(Y_test,axis=1)\n",
    "Y_pred = np.argmax(model.predict(X_test),axis=1)\n",
    "print('Confusion Matrix')"
   ]
  },
  {
   "cell_type": "code",
   "execution_count": 716,
   "metadata": {},
   "outputs": [],
   "source": [
    "import sklearn.metrics"
   ]
  },
  {
   "cell_type": "code",
   "execution_count": 717,
   "metadata": {},
   "outputs": [
    {
     "name": "stdout",
     "output_type": "stream",
     "text": [
      "              precision    recall  f1-score   support\n",
      "\n",
      "           0       0.67      0.61      0.64      1149\n",
      "           1       0.72      0.77      0.75      1500\n",
      "\n",
      "    accuracy                           0.70      2649\n",
      "   macro avg       0.70      0.69      0.70      2649\n",
      "weighted avg       0.70      0.70      0.70      2649\n",
      "\n"
     ]
    }
   ],
   "source": [
    "print(sklearn.metrics.classification_report(y_test_arg, Y_pred))"
   ]
  },
  {
   "cell_type": "code",
   "execution_count": 718,
   "metadata": {},
   "outputs": [],
   "source": [
    "from sklearn.metrics import confusion_matrix"
   ]
  },
  {
   "cell_type": "code",
   "execution_count": 719,
   "metadata": {},
   "outputs": [
    {
     "name": "stdout",
     "output_type": "stream",
     "text": [
      "[[ 706  443]\n",
      " [ 341 1159]]\n"
     ]
    }
   ],
   "source": [
    "print(confusion_matrix(y_test_arg, Y_pred))"
   ]
  },
  {
   "cell_type": "code",
   "execution_count": 720,
   "metadata": {},
   "outputs": [
    {
     "data": {
      "text/plain": [
       "array([[ 706,  443],\n",
       "       [ 341, 1159]], dtype=int64)"
      ]
     },
     "execution_count": 720,
     "metadata": {},
     "output_type": "execute_result"
    }
   ],
   "source": [
    "from sklearn.metrics import confusion_matrix\n",
    "cm=confusion_matrix(y_test_arg, Y_pred)\n",
    "cm\n"
   ]
  },
  {
   "cell_type": "code",
   "execution_count": 721,
   "metadata": {},
   "outputs": [
    {
     "data": {
      "image/png": "[encoded data removed]",
      "text/plain": [
       "<Figure size 500x500 with 2 Axes>"
      ]
     },
     "metadata": {},
     "output_type": "display_data"
    }
   ],
   "source": [
    "import seaborn as sns\n",
    "import matplotlib.pyplot as plt\n",
    "\n",
    "f, ax=plt.subplots(figsize=(5,5))\n",
    "sns.heatmap(cm,annot=True,linewidths=0.5,linecolor=\"red\",fmt=\".0f\",ax=ax)\n",
    "plt.xlabel(\"y_pred\")\n",
    "plt.ylabel(\"y_true\")\n",
    "plt.show()"
   ]
  },
  {
   "cell_type": "code",
   "execution_count": 722,
   "metadata": {},
   "outputs": [],
   "source": [
    "import pickle"
   ]
  },
  {
   "cell_type": "code",
   "execution_count": 723,
   "metadata": {},
   "outputs": [],
   "source": [
    "with open('tokenizer.pickle', 'wb') as handle:\n",
    "    pickle.dump(tokenizer, handle, protocol=pickle.HIGHEST_PROTOCOL)"
   ]
  },
  {
   "cell_type": "code",
   "execution_count": 724,
   "metadata": {},
   "outputs": [],
   "source": [
    "model.save('lstms.h5')"
   ]
  },
  {
   "cell_type": "code",
   "execution_count": 725,
   "metadata": {},
   "outputs": [],
   "source": [
    "twt = [\"Hello Beautiful\"]\n",
    "#vectorizing the tweet by the pre-fitted tokenizer instance\n",
    "twt = tokenizer.texts_to_sequences(twt)"
   ]
  },
  {
   "cell_type": "code",
   "execution_count": 726,
   "metadata": {},
   "outputs": [
    {
     "name": "stdout",
     "output_type": "stream",
     "text": [
      "[[918]]\n"
     ]
    }
   ],
   "source": [
    "print(twt)"
   ]
  },
  {
   "cell_type": "code",
   "execution_count": 727,
   "metadata": {},
   "outputs": [
    {
     "name": "stdout",
     "output_type": "stream",
     "text": [
      "[[918]]\n"
     ]
    }
   ],
   "source": [
    "print(twt)"
   ]
  },
  {
   "cell_type": "code",
   "execution_count": 728,
   "metadata": {},
   "outputs": [
    {
     "name": "stdout",
     "output_type": "stream",
     "text": [
      "[[  0   0   0   0   0   0   0   0   0   0   0   0   0   0   0   0   0   0\n",
      "    0   0   0   0   0   0   0   0   0   0   0 918]]\n",
      "1/1 - 0s - 217ms/epoch - 217ms/step\n",
      "[0.92782956 0.07217047]\n",
      "No_bullying\n"
     ]
    }
   ],
   "source": [
    "twt = pad_sequences(twt, maxlen=30, dtype='int32', value=0)\n",
    "print(twt)\n",
    "sentiment = model.predict(twt,batch_size=1,verbose = 2)[0]\n",
    "print(sentiment)\n",
    "if(np.argmax(sentiment) == 1):\n",
    "    print(\"bullying\")\n",
    "elif (np.argmax(sentiment) == 0):\n",
    "    print(\"No_bullying\")"
   ]
  },
  {
   "cell_type": "code",
   "execution_count": null,
   "metadata": {},
   "outputs": [],
   "source": [
    "\n",
    "\n"
   ]
  },
  {
   "cell_type": "code",
   "execution_count": null,
   "metadata": {},
   "outputs": [],
   "source": []
  }
 ],
 "metadata": {
  "kernelspec": {
   "display_name": "Python 3",
   "language": "python",
   "name": "python3"
  },
  "language_info": {
   "codemirror_mode": {
    "name": "ipython",
    "version": 3
   },
   "file_extension": ".py",
   "mimetype": "text/x-python",
   "name": "python",
   "nbconvert_exporter": "python",
   "pygments_lexer": "ipython3",
   "version": "3.8.0"
  }
 },
 "nbformat": 4,
 "nbformat_minor": 4
}
